{
 "cells": [
  {
   "cell_type": "code",
   "execution_count": 2,
   "metadata": {},
   "outputs": [],
   "source": [
    "# hashing \n",
    "import base64 \n",
    "\n",
    "def hashbase64(user_id):   \n",
    "    return base64.b64encode(user_id.encode()).decode()[:16]"
   ]
  },
  {
   "cell_type": "code",
   "execution_count": 3,
   "metadata": {},
   "outputs": [],
   "source": [
    "# loading data\n",
    "import pyarrow.parquet as pq\n",
    "import pyarrow.compute as pc \n",
    "import polars as pl\n",
    "\n",
    "parq = pq.ParquetFile('2022_place_canvas_history.parquet')"
   ]
  },
  {
   "cell_type": "code",
   "execution_count": 6,
   "metadata": {},
   "outputs": [],
   "source": [
    "# batches \n",
    "chunk_size = 10_000_000\n",
    "processed = []\n",
    "\n",
    "for batch in parq.iter_batches(batch_size=chunk_size):\n",
    "    chunk = pl.from_arrow(batch)\n",
    "\n",
    "    chunk = chunk.with_columns(pl.col('user_id').map_elements(hashbase64, return_dtype=pl.String))\n",
    "\n",
    "    chunk = chunk.with_columns(\n",
    "        pl.col('coordinate').str.split(',').list.get(0).cast(pl.Int32).alias('x'),\n",
    "        pl.col('coordinate').str.split(',').list.get(1).cast(pl.Int32).alias('y')\n",
    "    )\n",
    "\n",
    "    chunk = chunk.drop('coordinate')\n",
    "    \n",
    "    processed.append(chunk) "
   ]
  },
  {
   "cell_type": "code",
   "execution_count": 7,
   "metadata": {},
   "outputs": [],
   "source": [
    "# combining \n",
    "combined_df = pl.concat(processed)\n",
    "# sorting time \n",
    "combined_df = combined_df.sort('timestamp') "
   ]
  },
  {
   "cell_type": "code",
   "execution_count": 8,
   "metadata": {},
   "outputs": [],
   "source": [
    "combined_df.write_parquet('2022_place_canvas_simplified.parquet')"
   ]
  }
 ],
 "metadata": {
  "kernelspec": {
   "display_name": "Python 3",
   "language": "python",
   "name": "python3"
  },
  "language_info": {
   "codemirror_mode": {
    "name": "ipython",
    "version": 3
   },
   "file_extension": ".py",
   "mimetype": "text/x-python",
   "name": "python",
   "nbconvert_exporter": "python",
   "pygments_lexer": "ipython3",
   "version": "3.10.4"
  }
 },
 "nbformat": 4,
 "nbformat_minor": 2
}
