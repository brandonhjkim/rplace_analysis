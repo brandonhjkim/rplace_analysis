{
 "cells": [
  {
   "cell_type": "code",
   "execution_count": 1,
   "metadata": {},
   "outputs": [],
   "source": [
    "from pyspark.sql import SparkSession\n",
    "from pyspark.sql import functions as F\n",
    "from pyspark.sql.window import Window"
   ]
  },
  {
   "cell_type": "code",
   "execution_count": 2,
   "metadata": {},
   "outputs": [],
   "source": [
    "spark = SparkSession.builder.appName('sparksparkspark').config('spark.driver.memory', '25g').getOrCreate()"
   ]
  },
  {
   "cell_type": "code",
   "execution_count": 3,
   "metadata": {},
   "outputs": [],
   "source": [
    "df = spark.read.parquet('2022_place.parquet')"
   ]
  },
  {
   "cell_type": "code",
   "execution_count": 4,
   "metadata": {},
   "outputs": [
    {
     "name": "stdout",
     "output_type": "stream",
     "text": [
      "+--------------------+--------+-----------+----+----+\n",
      "|           timestamp| user_id|pixel_color|   x|   y|\n",
      "+--------------------+--------+-----------+----+----+\n",
      "|2022-04-04 00:53:...| 8069230|    #00CCC0| 826|1048|\n",
      "|2022-04-04 00:53:...| 1465682|    #94B3FF| 583|1031|\n",
      "|2022-04-04 00:53:...| 4369819|    #6A5CFF|1873| 558|\n",
      "|2022-04-04 00:54:...| 9487099|    #009EAA|1627| 255|\n",
      "|2022-04-04 00:55:...| 3739625|    #94B3FF|  49|1478|\n",
      "|2022-04-04 00:55:...| 2086589|    #E4ABFF| 408|1863|\n",
      "|2022-04-04 00:55:...|  700254|    #94B3FF| 111|1582|\n",
      "|2022-04-04 00:55:...|  495390|    #6A5CFF|1334|1840|\n",
      "|2022-04-04 00:55:...| 9447904|    #6A5CFF|1908|1854|\n",
      "|2022-04-04 00:56:...| 1098668|    #009EAA|1504|1722|\n",
      "|2022-04-04 00:56:...| 7700138|    #94B3FF|1850|1809|\n",
      "|2022-04-04 00:56:...|10000053|    #009EAA| 123|1108|\n",
      "|2022-04-04 00:56:...| 9728790|    #94B3FF| 890| 971|\n",
      "|2022-04-04 00:56:...| 4049244|    #00CCC0|1982|1827|\n",
      "|2022-04-04 00:56:...| 6917476|    #6A5CFF|1211| 719|\n",
      "|2022-04-04 00:56:...| 7620759|    #E4ABFF|1109| 861|\n",
      "|2022-04-04 00:57:...| 4032628|    #6A5CFF|1177| 420|\n",
      "|2022-04-04 00:58:...| 3926047|    #6A5CFF| 216|1678|\n",
      "|2022-04-04 00:58:...| 3910036|    #94B3FF|1384| 517|\n",
      "|2022-04-04 00:59:...|   39486|    #00CCC0|1381|1677|\n",
      "+--------------------+--------+-----------+----+----+\n",
      "only showing top 20 rows\n",
      "\n"
     ]
    }
   ],
   "source": [
    "df.show()"
   ]
  },
  {
   "cell_type": "code",
   "execution_count": 5,
   "metadata": {},
   "outputs": [],
   "source": [
    "df = df.orderBy('timestamp')"
   ]
  },
  {
   "cell_type": "code",
   "execution_count": 6,
   "metadata": {},
   "outputs": [],
   "source": [
    "df = df.withColumn('timestamp_round', (F.unix_timestamp('timestamp') / 0.1).cast('bigint') * 0.1)"
   ]
  },
  {
   "cell_type": "code",
   "execution_count": 7,
   "metadata": {},
   "outputs": [],
   "source": [
    "window_spec = Window.partitionBy('user_id').orderBy('timestamp_round')"
   ]
  },
  {
   "cell_type": "code",
   "execution_count": 8,
   "metadata": {},
   "outputs": [],
   "source": [
    "df = df.withColumn('time_diff', F.col('timestamp_round') - F.lag('timestamp_round').over(window_spec))"
   ]
  },
  {
   "cell_type": "code",
   "execution_count": null,
   "metadata": {},
   "outputs": [],
   "source": [
    "window_spec = Window.partitionBy('user_id').orderBy('timestamp')"
   ]
  },
  {
   "cell_type": "code",
   "execution_count": null,
   "metadata": {},
   "outputs": [],
   "source": [
    "df = df.withColumn('same_diff', (F.col('time_diff') == F.lead('time_diff').over(window_spec)).cast('int'))"
   ]
  },
  {
   "cell_type": "code",
   "execution_count": null,
   "metadata": {},
   "outputs": [],
   "source": [
    "bots = df.groupBy('user_id').agg(F.sum('same_diff').alias('consecutive_duplicates'))"
   ]
  },
  {
   "cell_type": "code",
   "execution_count": null,
   "metadata": {},
   "outputs": [],
   "source": [
    "bots = bots.filter(F.col('consecutive_duplicates') > 0)"
   ]
  },
  {
   "cell_type": "code",
   "execution_count": null,
   "metadata": {},
   "outputs": [
    {
     "name": "stdout",
     "output_type": "stream",
     "text": [
      "+-------+----------------------+\n",
      "|user_id|consecutive_duplicates|\n",
      "+-------+----------------------+\n",
      "|     54|                     1|\n",
      "|    191|                     2|\n",
      "|    367|                     1|\n",
      "|   1127|                     1|\n",
      "|   1145|                     1|\n",
      "|   1217|                     1|\n",
      "|   1258|                     2|\n",
      "|   1919|                     5|\n",
      "|   2906|                     1|\n",
      "|   2909|                     1|\n",
      "|   2941|                     1|\n",
      "|   3009|                     1|\n",
      "|   3081|                     3|\n",
      "|   3704|                     3|\n",
      "|   3866|                     1|\n",
      "|   4552|                     1|\n",
      "|   5148|                     1|\n",
      "|   6156|                    15|\n",
      "|   6362|                     1|\n",
      "|   6508|                     6|\n",
      "+-------+----------------------+\n",
      "only showing top 20 rows\n",
      "\n"
     ]
    }
   ],
   "source": [
    "# just to make sure its working, \n",
    "# this takes a really long time to run... i wonder why? \n",
    "bots.show()"
   ]
  },
  {
   "cell_type": "code",
   "execution_count": 15,
   "metadata": {},
   "outputs": [],
   "source": [
    "bot_activity = df.join(bots, on='user_id').withColumn('user_type', F.lit('bot'))"
   ]
  },
  {
   "cell_type": "code",
   "execution_count": null,
   "metadata": {},
   "outputs": [],
   "source": [
    "window_spec = Window.partitionBy('x', 'y').orderBy('timestamp') "
   ]
  },
  {
   "cell_type": "code",
   "execution_count": null,
   "metadata": {},
   "outputs": [],
   "source": [
    "bot_activity = bot_activity.withColumn('last_color', F.lag('pixel_color').over(window_spec))"
   ]
  },
  {
   "cell_type": "code",
   "execution_count": 23,
   "metadata": {},
   "outputs": [
    {
     "data": {
      "text/plain": [
       "54793646"
      ]
     },
     "execution_count": 23,
     "metadata": {},
     "output_type": "execute_result"
    }
   ],
   "source": [
    "# really really slow...\n",
    "bot_activity.count()"
   ]
  },
  {
   "cell_type": "code",
   "execution_count": 33,
   "metadata": {},
   "outputs": [
    {
     "data": {
      "text/plain": [
       "18321266"
      ]
     },
     "execution_count": 33,
     "metadata": {},
     "output_type": "execute_result"
    }
   ],
   "source": [
    "bot_activity.filter(F.col('pixel_color') == F.col('last_color')).count()\n",
    "# not the same, not sure why..."
   ]
  },
  {
   "cell_type": "code",
   "execution_count": null,
   "metadata": {},
   "outputs": [],
   "source": [
    "quantiles = [0, 0.1, 0.25, 0.5, 0.75, 0.9, 1]\n",
    "\n",
    "quantile_expr = f\"percentile_approx(time_diff, array({', '.join(map(str, quantiles))}))\""
   ]
  },
  {
   "cell_type": "code",
   "execution_count": null,
   "metadata": {},
   "outputs": [
    {
     "name": "stdout",
     "output_type": "stream",
     "text": [
      "0th percentile: 0.0\n",
      "10th percentile: 305.0\n",
      "25th percentile: 311.0\n",
      "50th percentile (median): 344.0\n",
      "75th percentile: 616.0\n",
      "90th percentile: 2194.0\n",
      "100th percentile: 293307.0\n"
     ]
    }
   ],
   "source": [
    "result = bot_activity.select(F.expr(quantile_expr)).collect()[0][0]\n",
    "\n",
    "print(f\"0th percentile: {result[0]}\")\n",
    "print(f\"10th percentile: {result[1]}\")\n",
    "print(f\"25th percentile: {result[2]}\")\n",
    "print(f\"50th percentile (median): {result[3]}\")\n",
    "print(f\"75th percentile: {result[4]}\")\n",
    "print(f\"90th percentile: {result[5]}\")\n",
    "print(f\"100th percentile: {result[6]}\")\n"
   ]
  },
  {
   "cell_type": "code",
   "execution_count": 27,
   "metadata": {},
   "outputs": [],
   "source": [
    "human_activity = df.join(bots, on='user_id', how='left_anti').withColumn('user_type', F.lit('bot'))"
   ]
  },
  {
   "cell_type": "code",
   "execution_count": null,
   "metadata": {},
   "outputs": [],
   "source": [
    "human_activity = human_activity.withColumn('last_color', F.lag('pixel_color').over(window_spec))"
   ]
  },
  {
   "cell_type": "code",
   "execution_count": 31,
   "metadata": {},
   "outputs": [
    {
     "data": {
      "text/plain": [
       "26465587"
      ]
     },
     "execution_count": 31,
     "metadata": {},
     "output_type": "execute_result"
    }
   ],
   "source": [
    "human_activity.filter(F.col('pixel_color') == F.col('last_color')).count()"
   ]
  },
  {
   "cell_type": "code",
   "execution_count": 32,
   "metadata": {},
   "outputs": [
    {
     "name": "stdout",
     "output_type": "stream",
     "text": [
      "0th percentile: 0.0\n",
      "10th percentile: 312.0\n",
      "25th percentile: 341.0\n",
      "50th percentile (median): 600.0\n",
      "75th percentile: 3016.0\n",
      "90th percentile: 18797.0\n",
      "100th percentile: 298857.0\n"
     ]
    }
   ],
   "source": [
    "result = human_activity.select(F.expr(quantile_expr)).collect()[0][0]\n",
    "\n",
    "print(f\"0th percentile: {result[0]}\")\n",
    "print(f\"10th percentile: {result[1]}\")\n",
    "print(f\"25th percentile: {result[2]}\")\n",
    "print(f\"50th percentile (median): {result[3]}\")\n",
    "print(f\"75th percentile: {result[4]}\")\n",
    "print(f\"90th percentile: {result[5]}\")\n",
    "print(f\"100th percentile: {result[6]}\")\n"
   ]
  }
 ],
 "metadata": {
  "kernelspec": {
   "display_name": "Python 3",
   "language": "python",
   "name": "python3"
  },
  "language_info": {
   "codemirror_mode": {
    "name": "ipython",
    "version": 3
   },
   "file_extension": ".py",
   "mimetype": "text/x-python",
   "name": "python",
   "nbconvert_exporter": "python",
   "pygments_lexer": "ipython3",
   "version": "3.10.4"
  }
 },
 "nbformat": 4,
 "nbformat_minor": 2
}
