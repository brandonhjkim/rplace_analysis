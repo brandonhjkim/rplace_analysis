{
 "cells": [
  {
   "cell_type": "code",
   "execution_count": null,
   "metadata": {},
   "outputs": [],
   "source": [
    "# wanted to start from scratch \n",
    "import polars as pl\n",
    "\n",
    "df = pl.read_csv('2022_place_canvas_history.csv') "
   ]
  },
  {
   "cell_type": "code",
   "execution_count": null,
   "metadata": {},
   "outputs": [],
   "source": [
    "# restricting size of user_id for memory usage, should be lossless \n",
    "import base64 \n",
    "\n",
    "def hashbase64(user_id):   \n",
    "    return base64.b64encode(user_id.encode()).decode()[:16]\n",
    "\n",
    "df = df.with_columns(pl.col('user_id').map_elements(hashbase64, return_dtype=pl.String))"
   ]
  },
  {
   "cell_type": "code",
   "execution_count": null,
   "metadata": {},
   "outputs": [],
   "source": [
    "# no UTC \n",
    "df = df.with_columns(pl.col('timestamp').str.replace(r\" UTC\", \"\", literal=False))"
   ]
  },
  {
   "cell_type": "code",
   "execution_count": null,
   "metadata": {},
   "outputs": [],
   "source": [
    "# normalizing milisecond precision\n",
    "df = df.with_columns(\n",
    "    pl.when(pl.col('timestamp').str.len_chars() == 22).then(pl.concat_str(pl.col('timestamp'), pl.lit('0')))\n",
    "    .when(pl.col('timestamp').str.len_chars() == 21).then(pl.concat_str(pl.col('timestamp'), pl.lit('00')))\n",
    "    .when(pl.col('timestamp').str.len_chars() == 19).then(pl.concat_str(pl.col('timestamp'), pl.lit('.000')))\n",
    "    .otherwise(pl.col('timestamp'))\n",
    ")"
   ]
  },
  {
   "cell_type": "code",
   "execution_count": null,
   "metadata": {},
   "outputs": [],
   "source": [
    "# convert to datetime \n",
    "df = df.with_columns(pl.col('timestamp').str.to_datetime())"
   ]
  },
  {
   "cell_type": "code",
   "execution_count": null,
   "metadata": {},
   "outputs": [],
   "source": [
    "# splitting coords \n",
    "df = df.with_columns(\n",
    "        pl.col('coordinate').str.split(',').list.get(0).cast(pl.Int32).alias('x'),\n",
    "        pl.col('coordinate').str.split(',').list.get(1).cast(pl.Int32).alias('y')\n",
    "    ).drop('coordinate')"
   ]
  },
  {
   "cell_type": "code",
   "execution_count": null,
   "metadata": {},
   "outputs": [],
   "source": [
    "# converting user_ids to ints \n",
    "df = df.with_columns(pl.col('user_id').rank(\"dense\"))"
   ]
  },
  {
   "cell_type": "code",
   "execution_count": 12,
   "metadata": {},
   "outputs": [],
   "source": [
    "df.write_parquet('2022_place.parquet')"
   ]
  }
 ],
 "metadata": {
  "kernelspec": {
   "display_name": "Python 3",
   "language": "python",
   "name": "python3"
  },
  "language_info": {
   "codemirror_mode": {
    "name": "ipython",
    "version": 3
   },
   "file_extension": ".py",
   "mimetype": "text/x-python",
   "name": "python",
   "nbconvert_exporter": "python",
   "pygments_lexer": "ipython3",
   "version": "3.10.4"
  }
 },
 "nbformat": 4,
 "nbformat_minor": 2
}
