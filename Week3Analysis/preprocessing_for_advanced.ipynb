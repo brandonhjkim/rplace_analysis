{
 "cells": [
  {
   "cell_type": "code",
   "execution_count": 1,
   "metadata": {},
   "outputs": [],
   "source": [
    "# color mapping \n",
    "import numpy as np\n",
    "\n",
    "color_table = {\n",
    "        \"red\": (255, 0, 0),\n",
    "        \"green\": (0, 255, 0),\n",
    "        \"blue\": (0, 0, 255),\n",
    "        \"yellow\": (255, 255, 0),\n",
    "        \"cyan\": (0, 255, 255),\n",
    "        \"magenta\": (255, 0, 255),\n",
    "        \"pink\": (255, 192, 203), \n",
    "        \"orange\": (255, 165, 0), \n",
    "        \"purple\": (160, 32, 240)\n",
    "    }\n",
    "\n",
    "colors = list(color_table.keys())\n",
    "rgb_vals = np.array(list(color_table.values()))\n",
    "\n",
    "def most_similar_color(hexcode):\n",
    "\n",
    "    hex_rgb = np.array([int(hexcode.lstrip('#')[i:i+2], 16) for i in (0, 2, 4)])\n",
    "\n",
    "    if hex_rgb[0] == hex_rgb[1] == hex_rgb[2]:\n",
    "        if hex_rgb[0] == 0:\n",
    "            return \"black\"\n",
    "        elif hex_rgb[0] == 255:\n",
    "            return \"white\" \n",
    "        else: \n",
    "            return \"gray\"\n",
    "\n",
    "    return colors[np.argmin(np.sum((rgb_vals - hex_rgb) ** 2, axis=1))]\n"
   ]
  },
  {
   "cell_type": "code",
   "execution_count": 2,
   "metadata": {},
   "outputs": [
    {
     "data": {
      "text/plain": [
       "'green'"
      ]
     },
     "execution_count": 2,
     "metadata": {},
     "output_type": "execute_result"
    }
   ],
   "source": [
    "# moss green -> green\n",
    "most_similar_color('#001C00')"
   ]
  },
  {
   "cell_type": "code",
   "execution_count": 3,
   "metadata": {},
   "outputs": [],
   "source": [
    "# hashing \n",
    "import base64 \n",
    "\n",
    "def hashbase64(user_id):   \n",
    "    return base64.b64encode(user_id.encode()).decode()[:8]"
   ]
  },
  {
   "cell_type": "code",
   "execution_count": 4,
   "metadata": {},
   "outputs": [
    {
     "data": {
      "text/plain": [
       "'Nk5TZ0Zh'"
      ]
     },
     "execution_count": 4,
     "metadata": {},
     "output_type": "execute_result"
    }
   ],
   "source": [
    "hashbase64(\"6NSgFa1CvIPly1VniNhlbrmoN3vgDFbMSKqh+c4TTfrr3dMib91oUWONX96g5PPcioIxedF24ldNOu/g5yqDrg==\")"
   ]
  },
  {
   "cell_type": "code",
   "execution_count": null,
   "metadata": {},
   "outputs": [],
   "source": [
    "# loading data\n",
    "import pyarrow.parquet as pq\n",
    "import pyarrow.compute as pc \n",
    "import polars as pl\n",
    "\n",
    "parq = pq.ParquetFile('2022_place_canvas_history.parquet')"
   ]
  },
  {
   "cell_type": "code",
   "execution_count": 59,
   "metadata": {},
   "outputs": [],
   "source": [
    "# batches \n",
    "chunk_size = 10_000_000\n",
    "processed = []\n",
    "\n",
    "for batch in parq.iter_batches(batch_size=chunk_size, columns=['timestamp', 'user_id', 'pixel_color']):\n",
    "    chunk = pl.from_arrow(batch)\n",
    "\n",
    "    chunk = chunk.with_columns(pl.col('user_id').map_elements(hashbase64, return_dtype=pl.String))\n",
    "    chunk = chunk.with_columns(pl.col('pixel_color').map_elements(most_similar_color, return_dtype=pl.String))\n",
    "    \n",
    "    processed.append(chunk) "
   ]
  },
  {
   "cell_type": "code",
   "execution_count": null,
   "metadata": {},
   "outputs": [],
   "source": [
    "# combining \n",
    "combined_df = pl.concat(processed)\n",
    "# sorting time \n",
    "combined_df = combined_df.sort('timestamp') \n",
    "# adding is_first \n",
    "combined_df = combined_df.with_columns(pl.col(\"user_id\").is_first_distinct().alias(\"is_first\"))"
   ]
  },
  {
   "cell_type": "code",
   "execution_count": 63,
   "metadata": {},
   "outputs": [],
   "source": [
    "combined_df.write_parquet('processed_data.parquet')"
   ]
  }
 ],
 "metadata": {
  "kernelspec": {
   "display_name": "Python 3",
   "language": "python",
   "name": "python3"
  },
  "language_info": {
   "codemirror_mode": {
    "name": "ipython",
    "version": 3
   },
   "file_extension": ".py",
   "mimetype": "text/x-python",
   "name": "python",
   "nbconvert_exporter": "python",
   "pygments_lexer": "ipython3",
   "version": "3.10.4"
  }
 },
 "nbformat": 4,
 "nbformat_minor": 2
}
